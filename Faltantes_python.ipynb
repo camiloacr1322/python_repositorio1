{
  "nbformat": 4,
  "nbformat_minor": 0,
  "metadata": {
    "colab": {
      "provenance": [],
      "mount_file_id": "120PuLV-m8NiHFvGtVHguUtvIaMZx-l8e",
      "authorship_tag": "ABX9TyPASoLaTk6e28pGqAhT+UCC",
      "include_colab_link": true
    },
    "kernelspec": {
      "name": "python3",
      "display_name": "Python 3"
    },
    "language_info": {
      "name": "python"
    }
  },
  "cells": [
    {
      "cell_type": "markdown",
      "metadata": {
        "id": "view-in-github",
        "colab_type": "text"
      },
      "source": [
        "<a href=\"https://colab.research.google.com/github/camiloacr1322/python_repositorio1/blob/main/Faltantes_python.ipynb\" target=\"_parent\"><img src=\"https://colab.research.google.com/assets/colab-badge.svg\" alt=\"Open In Colab\"/></a>"
      ]
    },
    {
      "cell_type": "markdown",
      "source": [
        "1) Se importan las librerias necesarias para el analisis pedido por la empresa."
      ],
      "metadata": {
        "id": "VajLmgr-qIs4"
      }
    },
    {
      "cell_type": "code",
      "source": [
        "# calidad datos.py\n",
        "import pandas as pd\n",
        "import numpy as n"
      ],
      "metadata": {
        "id": "SIo3NUegBr9c"
      },
      "execution_count": null,
      "outputs": []
    },
    {
      "cell_type": "markdown",
      "source": [
        "2) Cargamos la base de datos, le asignamos el nombre df. Se necesita cargar la base de datos (JEFAB_2024.xlsx) en el colab para que funcione el codigo."
      ],
      "metadata": {
        "id": "-Sim_qi205O2"
      }
    },
    {
      "cell_type": "code",
      "source": [
        "# Leer los datos\n",
        "df = pd.read_excel('JEFAB_2024.xlsx')\n"
      ],
      "metadata": {
        "id": "2Vuk4dfjBsGs"
      },
      "execution_count": null,
      "outputs": []
    },
    {
      "cell_type": "markdown",
      "source": [
        "3) Se hace un analisis exploratorio de datos faltantes en toda la base.\n"
      ],
      "metadata": {
        "id": "jLw38q6yOvIZ"
      }
    },
    {
      "cell_type": "markdown",
      "source": [
        "Se obtienen las 11 colunmas con más faltantes, como se observa que hay dos variables con el 60% de faltantes las cuales son(NUMERO_PERSONAS_APORTE_SOSTENIMIENTO2,NUMERO_HABITAN_VIVIENDA2), tambien dos con el 50% ( NUMERO_HIJOS,HIJOS_EN_HOGAR), estas cuatro siendo las más precupantes por el porcentaje tan alto de faltantes. Por lo que toca analaizar estas variables para saber porque su alto porcentaje de faltantes y decidir que hacer.\n",
        "\n",
        "\n",
        "Por otro lado hay variables con 30%,13% y 0.2%, obteniendo un porcentaje trabajable en caso que se decida imputar.\n",
        "\n",
        "Solo hay 10 variables con faltantes en la base de datos."
      ],
      "metadata": {
        "id": "2yHcpdX_2XGV"
      }
    },
    {
      "cell_type": "code",
      "source": [
        "# Análisis de datos faltantes\n",
        "print(\"=== ANÁLISIS DE DATOS FALTANTES ===\")\n",
        "missing_data = df.isnull().sum()\n",
        "missing_percent = (missing_data / len(df)) * 100\n",
        "\n",
        "\n",
        "print(\"Top 11 columnas con más datos faltantes:\")\n",
        "missing_info = pd.DataFrame({\n",
        "'Columna': missing_data.index,\n",
        "'Datos_Faltantes': missing_data.values,\n",
        "'Porcentaje': missing_percent.values\n",
        "}).sort_values('Datos_Faltantes', ascending=False)\n",
        "print(missing_info.head(11))"
      ],
      "metadata": {
        "colab": {
          "base_uri": "https://localhost:8080/"
        },
        "id": "y_S3etK-BsNc",
        "outputId": "b4a17913-386b-41d2-bfe8-bfb7c725b09d"
      },
      "execution_count": null,
      "outputs": [
        {
          "output_type": "stream",
          "name": "stdout",
          "text": [
            "=== ANÁLISIS DE DATOS FALTANTES ===\n",
            "Top 10 columnas con más datos faltantes:\n",
            "                                   Columna  Datos_Faltantes  Porcentaje\n",
            "213  NUMERO_PERSONAS_APORTE_SOSTENIMIENTO2             3928   61.155223\n",
            "212               NUMERO_HABITAN_VIVIENDA2             3808   59.286938\n",
            "31                            NUMERO_HIJOS             3217   50.085630\n",
            "32                          HIJOS_EN_HOGAR             3200   49.820956\n",
            "216                       EDAD_RANGO_PADRE             1939   30.188385\n",
            "17                              EDAD_PADRE             1939   30.188385\n",
            "215                       EDAD_RANGO_MADRE              889   13.840884\n",
            "13                              EDAD_MADRE              885   13.778608\n",
            "7                                    EDAD2               13    0.202398\n",
            "214                             EDAD_RANGO               13    0.202398\n",
            "4                                   CUERPO                0    0.000000\n"
          ]
        }
      ]
    },
    {
      "cell_type": "markdown",
      "source": [
        "Se hace un analisis de duplicados y se obtiene sero duplicados en la base de datos"
      ],
      "metadata": {
        "id": "lcnjvhEN3Tep"
      }
    },
    {
      "cell_type": "code",
      "source": [
        "# Análisis de duplicados\n",
        "print(f\"\\n=== ANÁLISIS DE DUPLICADOS ===\")\n",
        "print(f\"Registros duplicados: {df.duplicated().sum()}\")"
      ],
      "metadata": {
        "colab": {
          "base_uri": "https://localhost:8080/"
        },
        "id": "_iW2f4M3DGeV",
        "outputId": "fe04f92d-4ece-4d7b-d7c4-140388a1b784"
      },
      "execution_count": null,
      "outputs": [
        {
          "output_type": "stream",
          "name": "stdout",
          "text": [
            "\n",
            "=== ANÁLISIS DE DUPLICADOS ===\n",
            "Registros duplicados: 0\n"
          ]
        }
      ]
    },
    {
      "cell_type": "markdown",
      "source": [
        "Se observa el analisis de las variables y se obtiene 153 variables tipo cuantitativa discreta, 66 tipo cualitativa y 12 tipo cuantitativa continua."
      ],
      "metadata": {
        "id": "6hKlSGQ_N23P"
      }
    },
    {
      "cell_type": "code",
      "source": [
        "# Análisis de tipos de datos\n",
        "print(f\"\\n=== TIPOS DE DATOS ===\")\n",
        "print(df.dtypes.value_counts())"
      ],
      "metadata": {
        "colab": {
          "base_uri": "https://localhost:8080/"
        },
        "id": "vWMBYF_MDKcj",
        "outputId": "e410af31-fbc6-451f-aa4c-33645d6495ad"
      },
      "execution_count": null,
      "outputs": [
        {
          "output_type": "stream",
          "name": "stdout",
          "text": [
            "\n",
            "=== TIPOS DE DATOS ===\n",
            "int64      153\n",
            "object      66\n",
            "float64     12\n",
            "Name: count, dtype: int64\n"
          ]
        }
      ]
    },
    {
      "cell_type": "markdown",
      "source": [
        "No se encuentra ninguna columna problematica"
      ],
      "metadata": {
        "id": "k28pynjAOhKh"
      }
    },
    {
      "cell_type": "code",
      "source": [
        "# Identificar columnas problemáticas\n",
        "print(f\"\\n=== COLUMNAS CON CARACTERES ESPECIALES ===\")\n",
        "problematic_columns = [col for col in df.columns if 'Ã' in col or 'â' in col]\n",
        "print(f\"Columnas con encoding problemático: {len(problematic_columns)}\")\n",
        "for col in problematic_columns[:5]:\n",
        "  print(f\"- {col}\")"
      ],
      "metadata": {
        "colab": {
          "base_uri": "https://localhost:8080/"
        },
        "id": "PIDtLCbsDPoM",
        "outputId": "bd45a593-d651-42b1-dd78-c9eac26a07de"
      },
      "execution_count": null,
      "outputs": [
        {
          "output_type": "stream",
          "name": "stdout",
          "text": [
            "\n",
            "=== COLUMNAS CON CARACTERES ESPECIALES ===\n",
            "Columnas con encoding problemático: 0\n"
          ]
        }
      ]
    },
    {
      "cell_type": "markdown",
      "source": [
        "4) Le pido a mis analistas(Familiar, Demografico) que me digan que variables van a utilizar, esto para saber que variables son las más importantes para el analisis y limpiarlas o imputarlas en caso necesario.\n",
        "\n",
        "Ellos me piden 20 variables. Se observara una nueva base de datos"
      ],
      "metadata": {
        "id": "IDYR4vZvP5Fz"
      }
    },
    {
      "cell_type": "code",
      "source": [
        "df_variables=df.loc[:, ['ID','UNIDAD','CATEGORIA','EDAD2','SEXO','FRECUENCIA_VISITA_FAMILIAR', 'ESTADO_CIVIL','HIJOS','NUMERO_HIJOS','HIJOS_EN_HOGAR','RELACION_HIJOS','HERMANOS','ESPECIFICACION_CASADO','CASADO_FUERZA_MILITAR','TIPO_RELACION_PAREJA','RELACION_PAREJA_ESTABLE','PRINCIPAL_NECESIDAD_FAMILIAR' ,'MALTRATO_INTRAFAMILIAR','NUMERO_HABITAN_VIVIENDA2','FRECUENCIA_VISITA_FAMILIAR']]\n"
      ],
      "metadata": {
        "id": "7BbB06xxP457"
      },
      "execution_count": null,
      "outputs": []
    },
    {
      "cell_type": "markdown",
      "source": [
        "5) Se hace el mismo anlisis que con la base de datos original.\n",
        "\n",
        "Por lo que quedan 3 variables con 50% o más de faltantes, en el informe se explican que tienen estas variables y porque el alto porcentaje de faltantes, por lo que se soluciona hablando con los expertos y se decide no trabajar con(NUMERO_HABITAN_VIVIENDA2), las otras dos es hacerles una limpieza."
      ],
      "metadata": {
        "id": "LK33PhD9RtR4"
      }
    },
    {
      "cell_type": "code",
      "source": [
        "# Análisis de datos faltantes\n",
        "print(\"=== ANÁLISIS DE DATOS FALTANTES ===\")\n",
        "missing_data = df_variables.isnull().sum()\n",
        "missing_percent = (missing_data / len(df_variables)) * 100\n",
        "\n",
        "\n",
        "print(\"Top 5 columnas con más datos faltantes:\")\n",
        "missing_info = pd.DataFrame({\n",
        "'Columna': missing_data.index,\n",
        "'Datos_Faltantes': missing_data.values,\n",
        "'Porcentaje': missing_percent.values\n",
        "}).sort_values('Datos_Faltantes', ascending=False)\n",
        "print(missing_info.head(5))"
      ],
      "metadata": {
        "colab": {
          "base_uri": "https://localhost:8080/"
        },
        "id": "nseYSyPOP4zx",
        "outputId": "6c14f30d-f92b-45df-c653-2a963332a86f"
      },
      "execution_count": null,
      "outputs": [
        {
          "output_type": "stream",
          "name": "stdout",
          "text": [
            "=== ANÁLISIS DE DATOS FALTANTES ===\n",
            "Top 5 columnas con más datos faltantes:\n",
            "                     Columna  Datos_Faltantes  Porcentaje\n",
            "18  NUMERO_HABITAN_VIVIENDA2             3808   59.286938\n",
            "8               NUMERO_HIJOS             3217   50.085630\n",
            "9             HIJOS_EN_HOGAR             3200   49.820956\n",
            "3                      EDAD2               13    0.202398\n",
            "2                  CATEGORIA                0    0.000000\n"
          ]
        }
      ]
    },
    {
      "cell_type": "markdown",
      "source": [
        "Con esta base de datos, son 15 variables cualitativas, 1 cuantitativa discreta, y 4 cuantitativas continuas"
      ],
      "metadata": {
        "id": "1KbqQROuS4oe"
      }
    },
    {
      "cell_type": "code",
      "source": [
        "# Análisis de tipos de datos\n",
        "print(f\"\\n=== TIPOS DE DATOS ===\")\n",
        "print(df_variables.dtypes.value_counts())"
      ],
      "metadata": {
        "colab": {
          "base_uri": "https://localhost:8080/"
        },
        "id": "XQnT7r0BP4qE",
        "outputId": "b97743c2-1fe5-4e9d-97ec-053aa04594ff"
      },
      "execution_count": null,
      "outputs": [
        {
          "output_type": "stream",
          "name": "stdout",
          "text": [
            "\n",
            "=== TIPOS DE DATOS ===\n",
            "object     15\n",
            "float64     4\n",
            "int64       1\n",
            "Name: count, dtype: int64\n"
          ]
        }
      ]
    },
    {
      "cell_type": "markdown",
      "source": [
        "6) Limpieza de la base de datos nueva"
      ],
      "metadata": {
        "id": "XOrOWN81PXCD"
      }
    },
    {
      "cell_type": "markdown",
      "source": [
        "Se carga librerias necesarias para limpiar caracteres en las observaciones"
      ],
      "metadata": {
        "id": "PzsiOJmIPQN-"
      }
    },
    {
      "cell_type": "code",
      "source": [
        "# calidad_datos.py\n",
        "\n",
        "import unicodedata\n",
        "import re   # Import necesario para expresiones regulares\n",
        "\n"
      ],
      "metadata": {
        "id": "C4OHLRUEaeJn"
      },
      "execution_count": null,
      "outputs": []
    },
    {
      "cell_type": "code",
      "source": [
        "# ================== 3. FUNCIONES DE LIMPIEZA ==================\n",
        "reemplazos = {\n",
        "    \"Ã¡\": \"á\", \"Ã©️\": \"é\", \"Ã­\": \"í\", \"Ã³\": \"ó\", \"Ãº\": \"ú\",\n",
        "    \"Ã\": \"Á\", \"Ã‰\": \"É\", \"Ã\": \"Í\", \"Ã“\": \"Ó\", \"Ãš\": \"Ú\",\n",
        "    \"Ã±\": \"ñ\", \"Ã‘\": \"Ñ\", \"Ã¼\": \"ü\", \"Ãœ\": \"Ü\"\n",
        "}\n",
        "\n",
        "def corregir_encoding(s: str) -> str:\n",
        "    \"\"\"Corrige caracteres mal codificados\"\"\"\n",
        "    if not isinstance(s, str):\n",
        "        return s\n",
        "    for k, v in reemplazos.items():\n",
        "        s = s.replace(k, v)\n",
        "    return s\n",
        "\n",
        "def normalizar_texto(s):\n",
        "    \"\"\"Pasa a minúsculas, corrige encoding y elimina acentos\"\"\"\n",
        "    if pd.isna(s):\n",
        "        return s\n",
        "    s = str(s)\n",
        "    s = corregir_encoding(s)\n",
        "    s = ''.join(c for c in unicodedata.normalize('NFKD', s)\n",
        "                if not unicodedata.combining(c))\n",
        "    return s.strip().lower()\n",
        "\n",
        "# Diccionario de agrupamiento\n",
        "map_categorias = {\n",
        "    \"Madre\": [\"mama\", \"mamá\", \"madre\"],\n",
        "    \"Padre\": [\"papa\", \"papá\", \"padre\"],\n",
        "    \"Tio\": [\"tio\", \"tío\"],\n",
        "    \"Tia\": [\"tia\", \"tía\"],\n",
        "    \"Primo\": [\"primo\"],\n",
        "    \"Prima\": [\"prima\"],\n",
        "    \"Abuelo\": [\"abuelo\"],\n",
        "    \"Abuela\": [\"abuela\"],\n",
        "    \"Madres\": [\"mamas\", \"mamás\", \"madres\"],\n",
        "    \"Padres\": [\"papas\", \"papás\", \"padres\"],\n",
        "    \"Tios\": [\"tios\", \"tíos\"],\n",
        "    \"Tias\": [\"tias\", \"tías\"],\n",
        "    \"Primos\": [\"primos\"],\n",
        "    \"Primas\": [\"primas\"],\n",
        "    \"Abuelos\": [\"abuelos\"],\n",
        "    \"Abuelas\": [\"abuelas\"]\n",
        "}\n",
        "\n",
        "# Invertir mapeo (variantes -> canon)\n",
        "canon_map = {}\n",
        "for canon, variantes in map_categorias.items():\n",
        "    for v in variantes:\n",
        "        canon_map[normalizar_texto(v)] = canon\n",
        "\n",
        "# ================== 4. AGRUPAMIENTO DE VARIANTES ==================\n",
        "text_cols = df.select_dtypes(include=['object']).columns\n",
        "agrupamientos = {}\n",
        "for col in text_cols:\n",
        "    valores = df[col].dropna().astype(str).unique()\n",
        "    agrupados = {}\n",
        "    for val in valores:\n",
        "        norm = normalizar_texto(val)\n",
        "        canon = canon_map.get(norm, val)\n",
        "        agrupados.setdefault(canon, []).append(val)\n",
        "    agrupamientos[col] = {k: v for k, v in agrupados.items() if len(v) > 1}\n",
        "\n",
        "print(\"\\n=== AGRUPAMIENTO DE VARIANTES (Singular/Plural/Género) ===\")\n",
        "for col, grupos in agrupamientos.items():\n",
        "    if grupos:\n",
        "        print(f\"\\nColumna: {col}\")\n",
        "        for canon, variantes in grupos.items():\n",
        "            print(f\"  → {canon}: {variantes}\")\n",
        "\n",
        "# ================== 5. CREAR DATASET CORREGIDO ==================\n",
        "df_corregido = df.copy()\n",
        "\n",
        "for col in text_cols:\n",
        "    # Normalizar y limpiar\n",
        "    df_corregido[col] = df_corregido[col].astype(str).apply(lambda x: normalizar_texto(x) if x != 'nan' else np.nan)\n",
        "    # Quitar espacios extra en listas separadas por \";\"\n",
        "    df_corregido[col] = df_corregido[col].str.replace(r'\\s*;\\s*', ';', regex=True)\n",
        "    # Unificar categorías conocidas\n",
        "    df_corregido[col] = df_corregido[col].apply(\n",
        "        lambda x: canon_map.get(x, x) if isinstance(x, str) else x\n",
        "    )\n",
        "\n",
        "df_limpio_con_variables=df_corregido.loc[:, ['ID','UNIDAD','CATEGORIA','EDAD2','SEXO','FRECUENCIA_VISITA_FAMILIAR', 'ESTADO_CIVIL','HIJOS','NUMERO_HIJOS','HIJOS_EN_HOGAR','RELACION_HIJOS','HERMANOS','ESPECIFICACION_CASADO','CASADO_FUERZA_MILITAR','TIPO_RELACION_PAREJA','RELACION_PAREJA_ESTABLE','PRINCIPAL_NECESIDAD_FAMILIAR' ,'MALTRATO_INTRAFAMILIAR','NUMERO_HABITAN_VIVIENDA2','FRECUENCIA_VISITA_FAMILIAR']]\n",
        "df_limpio_con_variables.to_excel(\"JEFAB_limpio_con_variables.xlsx\", index=False)\n",
        "print(\"\\n>>> Dataset corregido guardado como 'JEFAB_2024_corregido.xlsx'\")"
      ],
      "metadata": {
        "colab": {
          "base_uri": "https://localhost:8080/"
        },
        "id": "vPnjW21GgHJL",
        "outputId": "e53df956-c337-476e-d19f-95f5eb27fa3b"
      },
      "execution_count": null,
      "outputs": [
        {
          "output_type": "stream",
          "name": "stdout",
          "text": [
            "\n",
            "=== AGRUPAMIENTO DE VARIANTES (Singular/Plural/Género) ===\n",
            "\n",
            "Columna: PARENTESCO_FALLECIMIENTO\n",
            "  → Abuelo: ['ABUELO', 'Abuelo', 'abuelo']\n",
            "  → Tios: ['TÃ\\xados', 'tios', 'Tios', 'TIOS']\n",
            "  → Tia: ['TÃ\\xada', 'TIA', 'tia', 'Tia', 'tÃ\\xada']\n",
            "  → Abuela: ['ABUELA', 'Abuela', 'abuela']\n",
            "  → Tio: ['Tio', 'TÃ\\xado', 'TIO', 'tio', 'tÃ\\xado']\n",
            "  → Madre: ['Madre', 'MADRE', 'MamÃ¡', 'madre', 'Mama', 'MAMÃ\\x81', 'mamÃ¡']\n",
            "  → Prima: ['Prima', 'PRIMA']\n",
            "  → Abuelos: ['Abuelos', 'abuelos', 'ABUELOS']\n",
            "  → Padre: ['PapÃ¡', 'Padre', 'PADRE', 'padre', 'PAPÃ\\x81', 'Papa', 'PAPA']\n",
            "  → Primo: ['PRIMO', 'Primo', 'primo']\n",
            "  → Padres: ['Padres', 'PADRES', 'padres']\n",
            "  → Tias: ['TIAS', 'TÃ\\xadas', 'Tias']\n",
            "  → Abuelas: ['Abuelas', 'abuelas']\n",
            "\n",
            ">>> Dataset corregido guardado como 'datos/JEFAB_2024_corregido.xlsx'\n"
          ]
        }
      ]
    },
    {
      "cell_type": "markdown",
      "source": [
        "7) Corregir problemas de omision de digitación"
      ],
      "metadata": {
        "id": "6Veo-V3klMqn"
      }
    },
    {
      "cell_type": "markdown",
      "source": [
        "En las variables(NUMERO_HABITAN_VIVIENDA2, NUMERO_HIJOS) tienen un problema, el cual si en la variable HIJOS se responde que no, en estas dos variables las dejan en NA, esto esta mal hecho, en esas dos variables si en HIJOS se responde no, se debe poner 0, asi que cambiaremos eso"
      ],
      "metadata": {
        "id": "tUORqC4olYkh"
      }
    },
    {
      "cell_type": "code",
      "source": [
        "JEFAB_LISTO = df_limpio_con_variables.copy()\n",
        "\n",
        "# Si HIJOS == \"no\", poner 0 en NUMERO_HIJOS\n",
        "JEFAB_LISTO [\"NUMERO_HIJOS\"] = n.where(JEFAB_LISTO[\"HIJOS\"] == \"no\", 0, JEFAB_LISTO[\"NUMERO_HIJOS\"])\n",
        "\n",
        "# Si HIJOS == \"no\", poner 0 en HIJOS_EN_HOGAR\n",
        "JEFAB_LISTO [\"HIJOS_EN_HOGAR\"] = n.where(JEFAB_LISTO[\"HIJOS\"] == \"no\", 0, JEFAB_LISTO[\"HIJOS_EN_HOGAR\"])\n"
      ],
      "metadata": {
        "id": "OXDp-F0ImGId"
      },
      "execution_count": null,
      "outputs": []
    },
    {
      "cell_type": "markdown",
      "source": [
        "Se quita del analisis la variable (NUMERO_HABITAN_VIVIENDA2), por las incongruencias de la variable, se ecxplica mejor en el informe."
      ],
      "metadata": {
        "id": "BZWt0AOrnRYW"
      }
    },
    {
      "cell_type": "code",
      "source": [
        "JEFAB_LISTO=JEFAB_LISTO.drop(columns=['NUMERO_HABITAN_VIVIENDA2'])"
      ],
      "metadata": {
        "id": "H6eiukB1oCLa"
      },
      "execution_count": null,
      "outputs": []
    },
    {
      "cell_type": "code",
      "source": [
        "# Análisis de datos faltantes\n",
        "print(\"=== ANÁLISIS DE DATOS FALTANTES ===\")\n",
        "missing_data = JEFAB_LISTO.isnull().sum()\n",
        "missing_percent = (missing_data / len(JEFAB_LISTO)) * 100\n",
        "\n",
        "\n",
        "print(\"Top 5 columnas con más datos faltantes:\")\n",
        "missing_info = pd.DataFrame({\n",
        "'Columna': missing_data.index,\n",
        "'Datos_Faltantes': missing_data.values,\n",
        "'Porcentaje': missing_percent.values\n",
        "}).sort_values('Datos_Faltantes', ascending=False)\n",
        "print(missing_info.head(5))"
      ],
      "metadata": {
        "colab": {
          "base_uri": "https://localhost:8080/"
        },
        "id": "seVCO89anG7p",
        "outputId": "48edceda-53f4-46cf-f56d-8835f03e9f1e"
      },
      "execution_count": null,
      "outputs": [
        {
          "output_type": "stream",
          "name": "stdout",
          "text": [
            "=== ANÁLISIS DE DATOS FALTANTES ===\n",
            "Top 5 columnas con más datos faltantes:\n",
            "          Columna  Datos_Faltantes  Porcentaje\n",
            "8    NUMERO_HIJOS              463    7.208470\n",
            "9  HIJOS_EN_HOGAR              446    6.943796\n",
            "3           EDAD2               13    0.202398\n",
            "2       CATEGORIA                0    0.000000\n",
            "1          UNIDAD                0    0.000000\n"
          ]
        }
      ]
    },
    {
      "cell_type": "markdown",
      "source": [
        "No se utilizan NA es la base que vamos a usar por lo cual los retiramos."
      ],
      "metadata": {
        "id": "bNVep_xj-mm1"
      }
    },
    {
      "cell_type": "markdown",
      "source": [
        "8) Exportación de base de datos a usar por los dos expertos"
      ],
      "metadata": {
        "id": "SxSka61FGoGV"
      }
    },
    {
      "cell_type": "code",
      "source": [
        "JEFAB_LISTO= JEFAB_LISTO.dropna()\n",
        "\n",
        "JEFAB_LISTO.to_excel(\"JEFAB_LISTO.xlsx\", index=False)"
      ],
      "metadata": {
        "id": "QhLfuVru81MF"
      },
      "execution_count": null,
      "outputs": []
    }
  ]
}